{
 "cells": [
  {
   "cell_type": "code",
   "execution_count": 1,
   "outputs": [],
   "source": [
    "import urllib.request, json\n",
    "import pandas as pd\n",
    "import folium"
   ],
   "metadata": {
    "collapsed": false
   }
  },
  {
   "cell_type": "code",
   "execution_count": 2,
   "outputs": [],
   "source": [
    "with urllib.request.urlopen(\"https://raw.githubusercontent.com/isellsoap/deutschlandGeoJSON/main/2_bundeslaender/4_niedrig.geo.json\") as url:\n",
    "    data = json.load(url)"
   ],
   "metadata": {
    "collapsed": false
   }
  },
  {
   "cell_type": "code",
   "execution_count": 4,
   "outputs": [
    {
     "name": "stdout",
     "output_type": "stream",
     "text": [
      "Baden-Württemberg\n",
      "Bayern\n",
      "Berlin\n",
      "Brandenburg\n",
      "Bremen\n",
      "Hamburg\n",
      "Hessen\n",
      "Mecklenburg-Vorpommern\n",
      "Niedersachsen\n",
      "Nordrhein-Westfalen\n",
      "Rheinland-Pfalz\n",
      "Saarland\n",
      "Sachsen-Anhalt\n",
      "Sachsen\n",
      "Schleswig-Holstein\n",
      "Thüringen\n"
     ]
    }
   ],
   "source": [
    "for i in range(16):\n",
    "    print(data[\"features\"][i][\"properties\"][\"name\"])"
   ],
   "metadata": {
    "collapsed": false
   }
  },
  {
   "cell_type": "code",
   "execution_count": 5,
   "outputs": [],
   "source": [
    "def main():\n",
    "    json_data = get_json(\"https://raw.githubusercontent.com/isellsoap/deutschlandGeoJSON/main/2_bundeslaender/4_niedrig.geo.json\")\n",
    "    federal_states = extract_state_names_from_json(json_data)\n",
    "    dataframe = create_df_temp_change(federal_states)\n",
    "    map = create_map_with_tooltips(dataframe, json_data)\n",
    "\n",
    "    map.save(\"Temp_Change_Germany.html\")\n",
    "\n",
    "\n",
    "def get_json(url_json):\n",
    "    with urllib.request.urlopen(url_json) as url:\n",
    "        return json.load(url)\n",
    "\n",
    "\n",
    "def extract_state_names_from_json(json):\n",
    "    list_federal_states = list()\n",
    "\n",
    "    for i in range(len(json[\"features\"])):\n",
    "        list_federal_states.append(json[\"features\"][i][\"properties\"][\"name\"])\n",
    "\n",
    "    return list_federal_states\n",
    "\n",
    "\n",
    "def create_df_temp_change(list_with_federal_states):\n",
    "\n",
    "    df_main = pd.DataFrame(columns=[\"State\", \"Temp_Change\"])\n",
    "\n",
    "    for federal_state in list_with_federal_states:\n",
    "\n",
    "        path = \"./data/federal_states/\" + federal_state + \".txt\"\n",
    "        df = pd.read_csv(path)\n",
    "\n",
    "        df.columns = [c_name.strip() for c_name in df.columns.tolist()]\n",
    "\n",
    "        df[\"DATE\"] = pd.to_datetime(df[\"DATE\"], format=\"%Y%m%d\")\n",
    "        df.set_index(\"DATE\", inplace=True)\n",
    "\n",
    "        df.drop([\"SOUID\", \"Q_TG\"], axis=1, inplace=True)\n",
    "\n",
    "        df.TG = df.TG / 10\n",
    "\n",
    "        df[\"year\"] = df.index.year\n",
    "\n",
    "        filter = (df[\"year\"] >= 1970) & (df[\"year\"] < 2022)\n",
    "        df = df[filter]\n",
    "\n",
    "        df_grouped = df.groupby(\"year\")[\"TG\"].mean()\n",
    "\n",
    "        beginning_values = list()\n",
    "        last_values = list()\n",
    "\n",
    "        beginning_values.extend(df_grouped.iloc[:5,].to_list())\n",
    "        last_values.extend(df_grouped.iloc[-5:,].to_list())\n",
    "\n",
    "        start = sum(beginning_values) / len(beginning_values)\n",
    "        end = sum(last_values) / len(last_values)\n",
    "\n",
    "        new_row = pd.Series({'State': federal_state, 'Temp_Change': round((end - start),2)})\n",
    "\n",
    "        df_main = pd.concat([df_main, new_row.to_frame().T], ignore_index=True)\n",
    "\n",
    "    return df_main\n",
    "\n",
    "\n",
    "def create_map_with_tooltips(df, data):\n",
    "    m = folium.Map(location=[51.3, 10], zoom_start=6)\n",
    "\n",
    "    choropleth = folium.Choropleth(\n",
    "        geo_data=data,\n",
    "        data=df,\n",
    "        columns=[\"State\", \"Temp_Change\"],\n",
    "        key_on='feature.properties.name',\n",
    "        fill_color='RdPu',\n",
    "        fill_opacity=0.7,\n",
    "        line_opacity=0.5,\n",
    "        legend_name='Avg Temp-Change 1970 - 75 / 2016 - 21',\n",
    "        smooth_factor=0\n",
    "    ).add_to(m)\n",
    "\n",
    "    tooltip_text = list()\n",
    "\n",
    "    for i,j in zip(df.iloc[:,0], df.iloc[:,1]):\n",
    "        tooltip_text.append(i + \" : \" + str(j) + \"°C\")\n",
    "\n",
    "    for idx in range(len(tooltip_text)):\n",
    "        data['features'][idx]['properties']['tooltip1'] = tooltip_text[idx]\n",
    "\n",
    "    choropleth.geojson.add_child(\n",
    "        folium.features.GeoJsonTooltip(['tooltip1'], labels=False)\n",
    "    )\n",
    "\n",
    "    return m\n",
    "\n",
    "\n",
    "if __name__ == \"__main__\":\n",
    "    main()"
   ],
   "metadata": {
    "collapsed": false
   }
  },
  {
   "cell_type": "code",
   "execution_count": null,
   "outputs": [],
   "source": [],
   "metadata": {
    "collapsed": false
   }
  }
 ],
 "metadata": {
  "kernelspec": {
   "display_name": "Python 3",
   "language": "python",
   "name": "python3"
  },
  "language_info": {
   "codemirror_mode": {
    "name": "ipython",
    "version": 2
   },
   "file_extension": ".py",
   "mimetype": "text/x-python",
   "name": "python",
   "nbconvert_exporter": "python",
   "pygments_lexer": "ipython2",
   "version": "2.7.6"
  }
 },
 "nbformat": 4,
 "nbformat_minor": 0
}
